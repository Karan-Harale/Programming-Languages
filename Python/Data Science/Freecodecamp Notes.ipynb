{
 "cells": [
  {
   "cell_type": "code",
   "execution_count": 1,
   "metadata": {},
   "outputs": [
    {
     "data": {
      "text/plain": [
       "12"
      ]
     },
     "execution_count": 1,
     "metadata": {},
     "output_type": "execute_result"
    }
   ],
   "source": [
    "6+6"
   ]
  },
  {
   "cell_type": "code",
   "execution_count": 21,
   "metadata": {},
   "outputs": [
    {
     "name": "stdout",
     "output_type": "stream",
     "text": [
      "{1: [32, 45, 87], 45: ['45', '7', '89', '6']}\n"
     ]
    }
   ],
   "source": [
    "def data():\n",
    "    # while True:\n",
    "        databook={1:[32,45,87]}\n",
    "        studentId=int(input(\"Enter Student Id: \"))\n",
    "        stdmarks=input(\"Enter Student Marks: \")\n",
    "        if studentId in databook:\n",
    "            print(\"Student Already Exist: \",databook[studentId])\n",
    "        else:\n",
    "            databook[studentId]=stdmarks.split(',')\n",
    "            print(databook)\n",
    "        \n",
    "        addMoreStudents=input(\"Do You Want to Add More Students: \")\n",
    "        if addMoreStudents.lower==\"no\":\n",
    "            print(databook)\n",
    "            \n",
    "        \n",
    "    \n",
    "st=data()"
   ]
  },
  {
   "cell_type": "code",
   "execution_count": 26,
   "metadata": {},
   "outputs": [
    {
     "name": "stdout",
     "output_type": "stream",
     "text": [
      "1 2 3 4 5 6 7 8 9 10 11 12 13 14 15 16 17 18 19 20 21 22 23 24 25 26 27 28 29 30 31 32 33 34 35 36 37 38 39 40 41 42 43 44 45 46 47 48 49 50 51 52 53 54 55 56 57 58 59 60 61 62 63 64 65 66 67 68 69 70 71 72 73 74 75 76 77 78 79 80 81 82 83 84 85 86 87 88 89 90 91 92 93 94 95 96 97 98 99 100 "
     ]
    }
   ],
   "source": [
    "for i in range(1,101):\n",
    "    print(i,end=\" \")"
   ]
  },
  {
   "cell_type": "code",
   "execution_count": 3,
   "metadata": {},
   "outputs": [],
   "source": [
    "import numpy as np"
   ]
  },
  {
   "cell_type": "code",
   "execution_count": 8,
   "metadata": {},
   "outputs": [
    {
     "name": "stdout",
     "output_type": "stream",
     "text": [
      "[1 2 3 4 5]\n",
      "[2 4 5 6 3]\n",
      "<class 'numpy.ndarray'>\n",
      "<class 'numpy.ndarray'>\n"
     ]
    }
   ],
   "source": [
    "a=np.array([1,2,3,4,5])\n",
    "b=np.array((2,4,5,6,3))\n",
    "\n",
    "print(a)\n",
    "print(b)\n",
    "\n",
    "print(type(a))\n",
    "print(type(b))"
   ]
  },
  {
   "cell_type": "code",
   "execution_count": 11,
   "metadata": {},
   "outputs": [
    {
     "name": "stdout",
     "output_type": "stream",
     "text": [
      "[1 2 3 4 5]\n",
      "[2. 4. 5. 6. 3.]\n",
      "<class 'numpy.ndarray'>\n",
      "<class 'numpy.ndarray'>\n"
     ]
    },
    {
     "data": {
      "text/plain": [
       "dtype('int32')"
      ]
     },
     "execution_count": 11,
     "metadata": {},
     "output_type": "execute_result"
    }
   ],
   "source": [
    "a=np.array([1,2,3,4,5],dtype='i')\n",
    "b=np.array((2,4,5,6,3),dtype='f')\n",
    "\n",
    "print(a)\n",
    "print(b)\n",
    "\n",
    "print(type(a))\n",
    "print(type(b))\n",
    "\n",
    "a.dtype"
   ]
  },
  {
   "cell_type": "code",
   "execution_count": 27,
   "metadata": {},
   "outputs": [
    {
     "name": "stdout",
     "output_type": "stream",
     "text": [
      "[[ 1  2  3  4  5]\n",
      " [ 6  7  8  9 10]]\n"
     ]
    }
   ],
   "source": [
    "a=np.array([[1,2,3,4,5],[6,7,8,9,10]])\n",
    "\n",
    "print(a)\n"
   ]
  },
  {
   "cell_type": "code",
   "execution_count": 22,
   "metadata": {},
   "outputs": [
    {
     "name": "stdout",
     "output_type": "stream",
     "text": [
      "2\n"
     ]
    }
   ],
   "source": [
    "print(a.ndim)"
   ]
  },
  {
   "cell_type": "code",
   "execution_count": 29,
   "metadata": {},
   "outputs": [
    {
     "data": {
      "text/plain": [
       "4"
      ]
     },
     "execution_count": 29,
     "metadata": {},
     "output_type": "execute_result"
    }
   ],
   "source": [
    "a[0,3]"
   ]
  },
  {
   "cell_type": "code",
   "execution_count": 40,
   "metadata": {},
   "outputs": [
    {
     "data": {
      "text/plain": [
       "(2, 5)"
      ]
     },
     "execution_count": 40,
     "metadata": {},
     "output_type": "execute_result"
    }
   ],
   "source": [
    "a.shape\n"
   ]
  },
  {
   "cell_type": "code",
   "execution_count": 38,
   "metadata": {},
   "outputs": [
    {
     "data": {
      "text/plain": [
       "10"
      ]
     },
     "execution_count": 38,
     "metadata": {},
     "output_type": "execute_result"
    }
   ],
   "source": [
    "a.size\n"
   ]
  },
  {
   "cell_type": "code",
   "execution_count": 39,
   "metadata": {},
   "outputs": [
    {
     "data": {
      "text/plain": [
       "40"
      ]
     },
     "execution_count": 39,
     "metadata": {},
     "output_type": "execute_result"
    }
   ],
   "source": [
    "a.nbytes"
   ]
  },
  {
   "cell_type": "code",
   "execution_count": 42,
   "metadata": {},
   "outputs": [
    {
     "name": "stdout",
     "output_type": "stream",
     "text": [
      "[ 0  1  2  3  4  5  6  7  8  9 10 11 12 13 14 15 16 17 18 19 20 21 22 23\n",
      " 24]\n"
     ]
    }
   ],
   "source": [
    "A=np.arange(25)\n",
    "print(A)"
   ]
  },
  {
   "cell_type": "code",
   "execution_count": 44,
   "metadata": {},
   "outputs": [
    {
     "name": "stdout",
     "output_type": "stream",
     "text": [
      "[ 0  5 10 15 20 25 30 35 40 45 50 55 60 65 70 75 80 85 90 95]\n"
     ]
    }
   ],
   "source": [
    "A=np.arange(0,100,5)\n",
    "print(A)"
   ]
  },
  {
   "cell_type": "code",
   "execution_count": 48,
   "metadata": {},
   "outputs": [
    {
     "data": {
      "text/plain": [
       "10"
      ]
     },
     "execution_count": 48,
     "metadata": {},
     "output_type": "execute_result"
    }
   ],
   "source": [
    "np.count_nonzero(a)"
   ]
  },
  {
   "cell_type": "code",
   "execution_count": 52,
   "metadata": {},
   "outputs": [
    {
     "data": {
      "text/plain": [
       "array([3, 7, 9, 1, 2, 0, 5, 8, 6, 4])"
      ]
     },
     "execution_count": 52,
     "metadata": {},
     "output_type": "execute_result"
    }
   ],
   "source": [
    "(np.random.permutation(np.arange(10)))"
   ]
  },
  {
   "cell_type": "code",
   "execution_count": 53,
   "metadata": {},
   "outputs": [
    {
     "data": {
      "text/plain": [
       "46"
      ]
     },
     "execution_count": 53,
     "metadata": {},
     "output_type": "execute_result"
    }
   ],
   "source": [
    "np.random.randint(10,50)"
   ]
  },
  {
   "cell_type": "code",
   "execution_count": 57,
   "metadata": {},
   "outputs": [
    {
     "data": {
      "text/plain": [
       "(array([ 8.,  8.,  2.,  5.,  2.,  6.,  5., 11.,  3.,  2.,  7.,  2.,  1.,\n",
       "         4.,  3.,  2.,  2.,  4.,  6.,  5.,  1.,  5.,  5.,  4.,  8.,  5.,\n",
       "         5.,  3.,  5.,  5.,  2.,  3.,  6.,  6.,  4.,  4.,  3.,  6.,  2.,\n",
       "         9.,  3.,  6.,  5.,  6.,  5.,  5.,  4.,  2.,  8.,  2.,  6.,  3.,\n",
       "         7.,  7.,  9.,  3.,  2.,  4.,  2., 10.,  6.,  7.,  1.,  9.,  8.,\n",
       "         4.,  6.,  4.,  7.,  7.,  6.,  3.,  6.,  5.,  4.,  7.,  5.,  4.,\n",
       "         4.,  6.,  4.,  1.,  4.,  7.,  3.,  7.,  2.,  3.,  5.,  4.,  6.,\n",
       "        13.,  6.,  6.,  6.,  1.,  9.,  7., 10.,  9.]),\n",
       " array([1.80857380e-05, 1.00148515e-02, 2.00116172e-02, 3.00083830e-02,\n",
       "        4.00051488e-02, 5.00019145e-02, 5.99986803e-02, 6.99954460e-02,\n",
       "        7.99922118e-02, 8.99889775e-02, 9.99857433e-02, 1.09982509e-01,\n",
       "        1.19979275e-01, 1.29976041e-01, 1.39972806e-01, 1.49969572e-01,\n",
       "        1.59966338e-01, 1.69963104e-01, 1.79959869e-01, 1.89956635e-01,\n",
       "        1.99953401e-01, 2.09950167e-01, 2.19946932e-01, 2.29943698e-01,\n",
       "        2.39940464e-01, 2.49937230e-01, 2.59933995e-01, 2.69930761e-01,\n",
       "        2.79927527e-01, 2.89924293e-01, 2.99921058e-01, 3.09917824e-01,\n",
       "        3.19914590e-01, 3.29911356e-01, 3.39908121e-01, 3.49904887e-01,\n",
       "        3.59901653e-01, 3.69898419e-01, 3.79895184e-01, 3.89891950e-01,\n",
       "        3.99888716e-01, 4.09885482e-01, 4.19882247e-01, 4.29879013e-01,\n",
       "        4.39875779e-01, 4.49872545e-01, 4.59869311e-01, 4.69866076e-01,\n",
       "        4.79862842e-01, 4.89859608e-01, 4.99856374e-01, 5.09853139e-01,\n",
       "        5.19849905e-01, 5.29846671e-01, 5.39843437e-01, 5.49840202e-01,\n",
       "        5.59836968e-01, 5.69833734e-01, 5.79830500e-01, 5.89827265e-01,\n",
       "        5.99824031e-01, 6.09820797e-01, 6.19817563e-01, 6.29814328e-01,\n",
       "        6.39811094e-01, 6.49807860e-01, 6.59804626e-01, 6.69801391e-01,\n",
       "        6.79798157e-01, 6.89794923e-01, 6.99791689e-01, 7.09788454e-01,\n",
       "        7.19785220e-01, 7.29781986e-01, 7.39778752e-01, 7.49775517e-01,\n",
       "        7.59772283e-01, 7.69769049e-01, 7.79765815e-01, 7.89762580e-01,\n",
       "        7.99759346e-01, 8.09756112e-01, 8.19752878e-01, 8.29749643e-01,\n",
       "        8.39746409e-01, 8.49743175e-01, 8.59739941e-01, 8.69736706e-01,\n",
       "        8.79733472e-01, 8.89730238e-01, 8.99727004e-01, 9.09723770e-01,\n",
       "        9.19720535e-01, 9.29717301e-01, 9.39714067e-01, 9.49710833e-01,\n",
       "        9.59707598e-01, 9.69704364e-01, 9.79701130e-01, 9.89697896e-01,\n",
       "        9.99694661e-01]),\n",
       " <BarContainer object of 100 artists>)"
      ]
     },
     "execution_count": 57,
     "metadata": {},
     "output_type": "execute_result"
    },
    {
     "data": {
      "image/png": "[encoded data removed]",
      "text/plain": [
       "<Figure size 640x480 with 1 Axes>"
      ]
     },
     "metadata": {},
     "output_type": "display_data"
    }
   ],
   "source": [
    "a=np.random.rand(500)\n",
    "\n",
    "import matplotlib.pyplot as mt\n",
    "\n",
    "mt.hist(a ,bins=100)"
   ]
  },
  {
   "cell_type": "code",
   "execution_count": 63,
   "metadata": {},
   "outputs": [
    {
     "data": {
      "text/plain": [
       "(array([60., 53., 53., ..., 63., 49., 46.]),\n",
       " array([4.11492709e-06, 5.04111190e-04, 1.00410745e-03, ...,\n",
       "        9.98996647e-01, 9.99496644e-01, 9.99996640e-01]),\n",
       " <BarContainer object of 2000 artists>)"
      ]
     },
     "execution_count": 63,
     "metadata": {},
     "output_type": "execute_result"
    },
    {
     "data": {
      "image/png": "[encoded data removed]",
      "text/plain": [
       "<Figure size 640x480 with 1 Axes>"
      ]
     },
     "metadata": {},
     "output_type": "display_data"
    }
   ],
   "source": [
    "b=np.random.rand(100000)\n",
    "mt.hist(b, bins=2000)"
   ]
  },
  {
   "cell_type": "code",
   "execution_count": 64,
   "metadata": {},
   "outputs": [
    {
     "name": "stdout",
     "output_type": "stream",
     "text": [
      "\u001b[1;31mDocstring:\u001b[0m\n",
      "zeros(shape, dtype=float, order='C', *, like=None)\n",
      "\n",
      "Return a new array of given shape and type, filled with zeros.\n",
      "\n",
      "Parameters\n",
      "----------\n",
      "shape : int or tuple of ints\n",
      "    Shape of the new array, e.g., ``(2, 3)`` or ``2``.\n",
      "dtype : data-type, optional\n",
      "    The desired data-type for the array, e.g., `numpy.int8`.  Default is\n",
      "    `numpy.float64`.\n",
      "order : {'C', 'F'}, optional, default: 'C'\n",
      "    Whether to store multi-dimensional data in row-major\n",
      "    (C-style) or column-major (Fortran-style) order in\n",
      "    memory.\n",
      "like : array_like, optional\n",
      "    Reference object to allow the creation of arrays which are not\n",
      "    NumPy arrays. If an array-like passed in as ``like`` supports\n",
      "    the ``__array_function__`` protocol, the result will be defined\n",
      "    by it. In this case, it ensures the creation of an array object\n",
      "    compatible with that passed in via this argument.\n",
      "\n",
      "    .. versionadded:: 1.20.0\n",
      "\n",
      "Returns\n",
      "-------\n",
      "out : ndarray\n",
      "    Array of zeros with the given shape, dtype, and order.\n",
      "\n",
      "See Also\n",
      "--------\n",
      "zeros_like : Return an array of zeros with shape and type of input.\n",
      "empty : Return a new uninitialized array.\n",
      "ones : Return a new array setting values to one.\n",
      "full : Return a new array of given shape filled with value.\n",
      "\n",
      "Examples\n",
      "--------\n",
      ">>> np.zeros(5)\n",
      "array([ 0.,  0.,  0.,  0.,  0.])\n",
      "\n",
      ">>> np.zeros((5,), dtype=int)\n",
      "array([0, 0, 0, 0, 0])\n",
      "\n",
      ">>> np.zeros((2, 1))\n",
      "array([[ 0.],\n",
      "       [ 0.]])\n",
      "\n",
      ">>> s = (2,2)\n",
      ">>> np.zeros(s)\n",
      "array([[ 0.,  0.],\n",
      "       [ 0.,  0.]])\n",
      "\n",
      ">>> np.zeros((2,), dtype=[('x', 'i4'), ('y', 'i4')]) # custom dtype\n",
      "array([(0, 0), (0, 0)],\n",
      "      dtype=[('x', '<i4'), ('y', '<i4')])\n",
      "\u001b[1;31mType:\u001b[0m      builtin_function_or_method\n"
     ]
    }
   ],
   "source": [
    "np.zeros?"
   ]
  },
  {
   "cell_type": "code",
   "execution_count": 66,
   "metadata": {},
   "outputs": [
    {
     "name": "stdout",
     "output_type": "stream",
     "text": [
      "2.41 s ± 493 ms per loop (mean ± std. dev. of 7 runs, 1 loop each)\n",
      "10.3 ms ± 1.27 ms per loop (mean ± std. dev. of 7 runs, 100 loops each)\n"
     ]
    }
   ],
   "source": [
    "b=np.random.rand(1000000)\n",
    "%timeit sum(b)\n",
    "%timeit b.sum()  #same as np.sum"
   ]
  },
  {
   "attachments": {},
   "cell_type": "markdown",
   "metadata": {},
   "source": [
    "# pandas"
   ]
  },
  {
   "cell_type": "code",
   "execution_count": 80,
   "metadata": {},
   "outputs": [
    {
     "data": {
      "text/plain": [
       "[<matplotlib.lines.Line2D at 0xc3157d8>]"
      ]
     },
     "execution_count": 80,
     "metadata": {},
     "output_type": "execute_result"
    },
    {
     "data": {
      "image/png": "[encoded data removed]",
      "text/plain": [
       "<Figure size 640x480 with 1 Axes>"
      ]
     },
     "metadata": {},
     "output_type": "display_data"
    }
   ],
   "source": [
    "import matplotlib.pyplot as plt\n",
    "\n",
    "x=np.linspace(0,10,100)\n",
    "y=np.sin(x)\n",
    "plt.plot(x,y,color='red')"
   ]
  },
  {
   "cell_type": "code",
   "execution_count": 87,
   "metadata": {},
   "outputs": [
    {
     "data": {
      "text/plain": [
       "<matplotlib.collections.PathCollection at 0xe2d66a0>"
      ]
     },
     "execution_count": 87,
     "metadata": {},
     "output_type": "execute_result"
    },
    {
     "data": {
      "image/png": "[encoded data removed]",
      "text/plain": [
       "<Figure size 640x480 with 1 Axes>"
      ]
     },
     "metadata": {},
     "output_type": "display_data"
    }
   ],
   "source": [
    "plt.scatter(x,y,color='green')"
   ]
  },
  {
   "cell_type": "code",
   "execution_count": null,
   "metadata": {},
   "outputs": [],
   "source": []
  }
 ],
 "metadata": {
  "kernelspec": {
   "display_name": "Python 3",
   "language": "python",
   "name": "python3"
  },
  "language_info": {
   "codemirror_mode": {
    "name": "ipython",
    "version": 3
   },
   "file_extension": ".py",
   "mimetype": "text/x-python",
   "name": "python",
   "nbconvert_exporter": "python",
   "pygments_lexer": "ipython3",
   "version": "3.10.2"
  },
  "orig_nbformat": 4,
  "vscode": {
   "interpreter": {
    "hash": "6405209957e873640d8ec0f0872c9fcccc26ea17a896bf21274ffec2e7a11c55"
   }
  }
 },
 "nbformat": 4,
 "nbformat_minor": 2
}
